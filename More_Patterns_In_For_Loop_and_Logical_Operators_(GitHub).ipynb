{
  "nbformat": 4,
  "nbformat_minor": 0,
  "metadata": {
    "colab": {
      "name": "More Patterns In For Loop and Logical Operators (GitHub).ipynb",
      "provenance": [],
      "authorship_tag": "ABX9TyOfP9ZZiURnH2PF/6yuuR0L",
      "include_colab_link": true
    },
    "kernelspec": {
      "name": "python3",
      "display_name": "Python 3"
    }
  },
  "cells": [
    {
      "cell_type": "markdown",
      "metadata": {
        "id": "view-in-github",
        "colab_type": "text"
      },
      "source": [
        "<a href=\"https://colab.research.google.com/github/ShivanshGupta1/More-For-Loop-Patterns-and-Logical-Operators/blob/main/More_Patterns_In_For_Loop_and_Logical_Operators_(GitHub).ipynb\" target=\"_parent\"><img src=\"https://colab.research.google.com/assets/colab-badge.svg\" alt=\"Open In Colab\"/></a>"
      ]
    },
    {
      "cell_type": "code",
      "metadata": {
        "id": "6po51NnH9-8f"
      },
      "source": [
        "#logical operators\n",
        "#and, or and not\n",
        "for row in range(3):\n",
        "  for col in range(4):\n",
        "    print(col, end='')\n",
        "  print()"
      ],
      "execution_count": null,
      "outputs": []
    },
    {
      "cell_type": "code",
      "metadata": {
        "id": "mfbBtSEWU1DY"
      },
      "source": [
        "for row in range(4):\n",
        "  for col in range(3):\n",
        "    if (col==0 and row==1) or (col==0 and row==2) or (col==2 and row ==1) or (col==2 and row==2):\n",
        "      print(' ', end='')\n",
        "    elif (row==0) or (row==3):\n",
        "      print('-', end='')\n",
        "    else:\n",
        "      print('|', end='')\n",
        "  print()"
      ],
      "execution_count": null,
      "outputs": []
    },
    {
      "cell_type": "code",
      "metadata": {
        "id": "lpTGVjl-U2gF"
      },
      "source": [
        "for row in range(1,7):\n",
        "  for col in range(1,7):\n",
        "    if (col==1) or (col==6) or (row==1) or (row==6):\n",
        "      print('+', end='')\n",
        "\n",
        "    else:\n",
        "      print(' ', end='')\n",
        "  print()\n"
      ],
      "execution_count": null,
      "outputs": []
    },
    {
      "cell_type": "code",
      "metadata": {
        "id": "a7O2t-s2U3ry"
      },
      "source": [
        "for row in range(1,9):\n",
        "  for col in range(1,6):\n",
        "    if (col==1) or (row==1) or (row==4) or (col==5 and row<5):\n",
        "      print('#', end='')\n",
        "    else:\n",
        "      print(' ', end='')\n",
        "  print()"
      ],
      "execution_count": null,
      "outputs": []
    },
    {
      "cell_type": "code",
      "metadata": {
        "id": "8PqQOlOPU4-R"
      },
      "source": [
        "L = ['p','y','t','h','o','n']\n",
        "for row in range(len(L)):\n",
        "  for col in range(row+1):\n",
        "    print(L[col], end='')\n",
        "  print()\n",
        "  "
      ],
      "execution_count": null,
      "outputs": []
    },
    {
      "cell_type": "code",
      "metadata": {
        "id": "gxT9wIAeU6QP"
      },
      "source": [
        "for row in range(4):\n",
        "  print((3-row)*' ', (2*row+1)*'#')"
      ],
      "execution_count": null,
      "outputs": []
    },
    {
      "cell_type": "code",
      "metadata": {
        "id": "iYxP2YzNU7dh"
      },
      "source": [
        "for row in range(4):\n",
        "  print((3-row)*' ', (2*row+1)*'+')\n",
        "  if row==3:\n",
        "    for row in range(3):\n",
        "     print((1+row)*' ', (row+5-row*3)*'+')"
      ],
      "execution_count": null,
      "outputs": []
    },
    {
      "cell_type": "code",
      "metadata": {
        "id": "m7VRHZENU8gF"
      },
      "source": [
        "for row in range(1,6):\n",
        "  print('*'*row)\n",
        "  if row==5:\n",
        "    for row in range(4):\n",
        "      print((row+4-row*2)*'*')\n",
        "    break"
      ],
      "execution_count": null,
      "outputs": []
    },
    {
      "cell_type": "code",
      "metadata": {
        "id": "mF9ERvo8U9q8"
      },
      "source": [
        "for row in range(1,6,1):\n",
        "  for col in range(1,row+1):\n",
        "      print(col, end='')\n",
        "  print()"
      ],
      "execution_count": null,
      "outputs": []
    },
    {
      "cell_type": "code",
      "metadata": {
        "id": "0pb2yQpcU-1Z"
      },
      "source": [
        "for row in range(1,5):\n",
        "  for col in range(1,6-row):\n",
        "      print(col, end='')\n",
        "  print()"
      ],
      "execution_count": null,
      "outputs": []
    },
    {
      "cell_type": "code",
      "metadata": {
        "id": "FFfrKhprU__z"
      },
      "source": [
        "for row in range(1,5):\n",
        "  for col in range(1,row+1):\n",
        "      print(row, end='')\n",
        "  print()"
      ],
      "execution_count": null,
      "outputs": []
    },
    {
      "cell_type": "code",
      "metadata": {
        "id": "W5YnAE6AVBGe"
      },
      "source": [
        "#flyod's triangle  \n",
        "num = 0 \n",
        "for row in range(1,5):\n",
        "  for col in range(1, row+1):\n",
        "    num = num + 1\n",
        "    print(num, end='')\n",
        "  print()"
      ],
      "execution_count": null,
      "outputs": []
    }
  ]
}